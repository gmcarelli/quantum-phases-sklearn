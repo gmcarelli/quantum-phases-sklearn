{
 "cells": [
  {
   "cell_type": "markdown",
   "id": "692b6324",
   "metadata": {},
   "source": [
    "# Classificando Fases Quânticas com ML"
   ]
  },
  {
   "cell_type": "markdown",
   "id": "9f429a64",
   "metadata": {},
   "source": [
    "## Importando pacotes"
   ]
  },
  {
   "cell_type": "code",
   "execution_count": null,
   "id": "229a91eb",
   "metadata": {},
   "outputs": [],
   "source": [
    "import sys\n",
    "import matplotlib.pyplot as plt\n",
    "import numpy as np\n",
    "import pandas as pd\n",
    "from sklearn.discriminant_analysis import LinearDiscriminantAnalysis, QuadraticDiscriminantAnalysis\n",
    "from sklearn.ensemble import AdaBoostClassifier, GradientBoostingClassifier, RandomForestClassifier\n",
    "from sklearn.linear_model import LogisticRegression\n",
    "from sklearn.naive_bayes import GaussianNB\n",
    "from sklearn.neural_network import MLPClassifier\n",
    "from sklearn.preprocessing import normalize\n",
    "from sklearn.neighbors import KNeighborsClassifier\n",
    "from sklearn.metrics import accuracy_score\n",
    "from sklearn.model_selection import train_test_split\n",
    "from sklearn.svm import SVC, NuSVC\n",
    "from sklearn.tree import DecisionTreeClassifier\n",
    "import warnings\n",
    "\n",
    "fases = ['Haldane', 'Trimer', 'Ferro', 'Dimer', 'LD', 'XY1', 'Neel', 'XY2'] #Definir a ordem das fases\n",
    "colors = ['red', 'purple', 'blue', 'green', 'yellow', 'cyan', 'olive', 'black'] #Definir cores de cada fase\n",
    "###  LISTA DE CLASSIFICADORES QUE SERÃO UTILIZADOS  \n",
    "classifiers = [\n",
    "    KNeighborsClassifier(50), #knn\n",
    "    SVC(kernel=\"rbf\", C=0.025, probability=True),\n",
    "    #NuSVC(probability=True),\n",
    "    DecisionTreeClassifier(), #Árvore de Decisão\n",
    "    MLPClassifier(alpha=1), #rede neural    \n",
    "    RandomForestClassifier(), #Random Forest\n",
    "    AdaBoostClassifier(),\n",
    "    GradientBoostingClassifier(), #Gradient Boosting\n",
    "    GaussianNB(), #Naive Bayes\n",
    "    LinearDiscriminantAnalysis(),\n",
    "    QuadraticDiscriminantAnalysis(),\n",
    "    LogisticRegression() #Regressão Logística\n",
    "]\n"
   ]
  },
  {
   "cell_type": "markdown",
   "id": "47bdd7c3",
   "metadata": {},
   "source": [
    "* Haldane &#8594; $[0]$\n",
    "* Trimer &#8594; $[1]$\n",
    "* Ferro &#8594; $[2]$\n",
    "* Dimer &#8594; $[3]$\n",
    "* LD &#8594; $[4]$\n",
    "* XY1 &#8594; $[5]$\n",
    "* Neel &#8594; $[6]$\n",
    "* XY2 &#8594; $[7]$"
   ]
  },
  {
   "cell_type": "markdown",
   "id": "9f5eb846",
   "metadata": {},
   "source": [
    "## Lendo os arquivos com os dados"
   ]
  },
  {
   "cell_type": "code",
   "execution_count": null,
   "id": "cdfc74ad",
   "metadata": {},
   "outputs": [],
   "source": [
    "dfXXZ = pd.DataFrame(pd.read_excel(\"dfXXZ_final.xls\"))\n",
    "dfXXZTeorico = pd.DataFrame(pd.read_csv('pontos_plot_XXZ.csv', header=None))\n",
    "dfBond = pd.DataFrame(pd.read_excel(\"dfBond_final.xls\"))\n",
    "dfBondTeorico = pd.DataFrame(pd.read_csv('data_paper_ferro_bond.csv', header=None))\n",
    "dfBilinear = pd.read_excel(\"dfBilinear_final.xls\")\n",
    "dfBilinearTeorico = pd.DataFrame([0.25, 0.5, 1.25, 1.75])"
   ]
  },
  {
   "cell_type": "markdown",
   "id": "7357b977",
   "metadata": {},
   "source": [
    "## Rotulando os dados"
   ]
  },
  {
   "cell_type": "markdown",
   "id": "c7c0ba84",
   "metadata": {},
   "source": [
    "Nesta etapa estamos rotulando os dados teóricos nos quais o nosso algoritmo de ML se baseará para realizar as predições. Para tal, utilizaremos as fronteiras indicadas nos papers:\n",
    "* [XXZ](https://arxiv.org/abs/cond-mat/0209403.pdf)\n",
    "* [Bond](https://arxiv.org/pdf/cond-mat/9511122.pdf)\n",
    "* [Bilinear](https://arxiv.org/pdf/1602.03731.pdf)\n",
    "\n",
    "Criaremos polinômios que servirão para definir as fronteiras de cada fase, e assim teremos os nossos rótulos teóricos."
   ]
  },
  {
   "cell_type": "code",
   "execution_count": null,
   "id": "bee29b97",
   "metadata": {},
   "outputs": [],
   "source": [
    "# ROTULAR XXZ\n",
    "rotuladorXXZ = []\n",
    "for x in range(0, len(dfXXZ)):\n",
    "    X = dfXXZ.values[x, 0]\n",
    "    y = dfXXZ.values[x, 1]\n",
    "\n",
    "#     FASES FERRO/LD\n",
    "    if X < -1.8375250:\n",
    "        if y < (-0.1009)*(X**2) - 1.6701*X - 1.329:\n",
    "            rotuladorXXZ.append(2)\n",
    "        else:\n",
    "            rotuladorXXZ.append(4)\n",
    "\n",
    "#     FASES FERRO/XY\n",
    "    elif X >= -1.837525 and X < -0.278:\n",
    "        if y >-0.0741*X**3 - 0.3014*X**2 - 0.872*X + 0.3499:\n",
    "            rotuladorXXZ.append(4)\n",
    "        elif y < -5.1127*X**5 - 27.865*X**4 - 57.426*X**3 - 55.858*X**2 - 27.638*X - 6.4824:\n",
    "            rotuladorXXZ.append(2)\n",
    "        else:\n",
    "            rotuladorXXZ.append(5)\n",
    "\n",
    "    elif X >= -0.278 and X < 0:\n",
    "        if y >-0.0741*X**3 - 0.3014*X**2 - 0.872*X + 0.3499:\n",
    "            rotuladorXXZ.append(4)\n",
    "        elif y < -5.1127*X**5 - 27.865*X**4 - 57.426*X**3 - 55.858*X**2 - 27.638*X - 6.4824:\n",
    "            rotuladorXXZ.append(2)\n",
    "        elif y < 4.595*X**2 + 1.393*X - 2.007:\n",
    "            rotuladorXXZ.append(7)\n",
    "        else:\n",
    "            rotuladorXXZ.append(5)\n",
    "\n",
    "#     FASES LD/ HALDANE\n",
    "    elif X >= 0 and X < 3.28405:\n",
    "        if y > 0.0807*X**2 + 0.5418*X + 0.3465:\n",
    "            rotuladorXXZ.append(4)\n",
    "        elif y > -0.0462*X**3 + 0.154*X**2 + 1.5213*X - 2.0196:\n",
    "            rotuladorXXZ.append(0)\n",
    "        else:\n",
    "            rotuladorXXZ.append(6)\n",
    "\n",
    "#     FASES LD/NEEL\n",
    "    elif X >= 3.28405 and X <= 4:\n",
    "        if y > 1.0906*X - 0.583:\n",
    "            rotuladorXXZ.append(4)\n",
    "        else:\n",
    "            rotuladorXXZ.append(6)\n",
    "dfXXZ[\"labels\"] = rotuladorXXZ\n",
    "\n",
    "######################################################################\n",
    "# ROTULAR BOND\n",
    "rotuladorBond = []\n",
    "for x in range(0, len(dfBond)):\n",
    "    X = dfBond.values[x, 0]\n",
    "    y = dfBond.values[x, 1]\n",
    "\n",
    "#     FASE FERRO\n",
    "    if X < -1:\n",
    "        rotuladorBond.append(2)\n",
    "\n",
    "#     FASE XY/ DIMER\n",
    "    elif X >= -1 and X < 0:\n",
    "        if y > 0.1435*X**2 - 0.6447*X + 0.2197:\n",
    "            rotuladorBond.append(3)\n",
    "        else:\n",
    "            rotuladorBond.append(5)\n",
    "\n",
    "#     FASE HALDANE/DIMER\n",
    "    elif X >= 0 and X < 1:\n",
    "        if y > 0.0043*X**3 - 0.0384*X**2 + 0.0631*X + 0.2317:\n",
    "            rotuladorBond.append(3)\n",
    "        else:\n",
    "            rotuladorBond.append(0)   \n",
    "\n",
    "#     FASE HALDANE/NEEL\n",
    "    elif X >= 1.0 and X <= 1.2:\n",
    "        if y > -0.0872*X**2 + 0.6067*X - 0.2264:\n",
    "            rotuladorBond.append(3)\n",
    "        elif y > -247.1*X**3 + 826.12*X**2 - 921.85*X + 343.48:\n",
    "            rotuladorBond.append(6)\n",
    "        else:\n",
    "            rotuladorBond.append(0)\n",
    "\n",
    "#     FASE NEEL/DIMER\n",
    "    elif X > 1.2 and X <= 2.5:\n",
    "        if y > -0.0872*X**2 + 0.6067*X - 0.2264:\n",
    "            rotuladorBond.append(3)\n",
    "        else:\n",
    "            rotuladorBond.append(6)\n",
    "\n",
    "rotuladorBondDF = pd.DataFrame(rotuladorBond)\n",
    "dfBond[\"labels\"]= rotuladorBondDF\n",
    "\n",
    "######################################################################\n",
    "# ROTULAR BILINEAR\n",
    "\n",
    "rotuladorBilinear = []\n",
    "zeros = []\n",
    "yf = list()\n",
    "for k in range(0, len(dfBilinear)):\n",
    "    yf.append(0)\n",
    "for x in range(0, len(dfBilinear)):\n",
    "#     FASE HALDANE\n",
    "    if dfBilinear.values[x,0] <= 0.25 and dfBilinear.values[x,0] >= 0 or dfBilinear.values[x,0] > 1.75 and dfBilinear.values[x,0] <= 2:\n",
    "        rotuladorBilinear.append(0)\n",
    "#     FASE TRIMER\n",
    "    elif dfBilinear.values[x,0] > 0.25 and dfBilinear.values[x,0] <= 0.5:\n",
    "        rotuladorBilinear.append(1)\n",
    "#     FASE FERRO\n",
    "    elif dfBilinear.values[x,0] > 0.5 and dfBilinear.values[x,0] <= 1.25:\n",
    "        rotuladorBilinear.append(2)\n",
    "#     FASE DIMER\n",
    "    else:\n",
    "        rotuladorBilinear.append(3)\n",
    "\n",
    "dfBilinear[\"labels\"]= pd.DataFrame(rotuladorBilinear)"
   ]
  },
  {
   "cell_type": "markdown",
   "id": "e96d898d",
   "metadata": {},
   "source": [
    "## Criando Funções para Aplicar e plotar o ML"
   ]
  },
  {
   "cell_type": "markdown",
   "id": "3a6fa611",
   "metadata": {},
   "source": [
    "Iremos criar funções para evitar repetir muitos processos iguais no código. A princípio pode parecer mais complicado, porém torna o código mais organizado e MUITO mais curto. Optei por fazer em duas funções (gerar os dados/ plotar) para que pudesse reaproveitar a primeira na hora de calcular a precisão variando o valor de K. Uma ideia útil e fácil de ser implementada é adicionar uma outra variável de entrada na função - o classificador utilizado. É possível colocar até mesmo uma lista de classificadores e testar diferentes métodos de ML praticamente sem alterar o código."
   ]
  },
  {
   "cell_type": "code",
   "execution_count": null,
   "id": "e07956f0",
   "metadata": {},
   "outputs": [],
   "source": [
    "def aplicarMLTransfer(dfTreino1, dfTreino2, dfTeste, dfTeorico, classifier, listaNumeroFasesIgnorar=[]):#Função a ser criada\n",
    "    \n",
    "    warnings.filterwarnings('ignore') #Ignorando avisos\n",
    "    \n",
    "    X_train = pd.DataFrame(normalize(dfTreino1.values[:,2:-1])).append(pd.DataFrame(normalize(dfTreino2.values[:, 2:-1]))) #Juntando os datasets de treino\n",
    "\n",
    "    #print(X_train.head())\n",
    "\n",
    "    y_train = pd.DataFrame(dfTreino1.labels).append(pd.DataFrame(dfTreino2.labels))#Juntando os rótulos dos datasets de treino\n",
    "    X_test = pd.DataFrame(dfTeste.values[:, :]).rename(columns={27:\"labels\"})#Pegando o dataset de teste\n",
    "\n",
    "    for i in listaNumeroFasesIgnorar:\n",
    "        X_test = pd.DataFrame(X_test[X_test.labels != i])#Ignorando as fases desejadas\n",
    "    y_test = X_test.labels#Pegando os rótulos de teste\n",
    "    \n",
    "    classifier.fit(X_train, y_train)#Fitando o cklassificador nos dados de treino\n",
    "    previsao = classifier.predict(normalize(pd.DataFrame(X_test.values[:, 2:-1])))#Prevendo os rótulos de teste\n",
    "    precisao = accuracy_score(y_test, previsao) #Obter a precisao do classificador\n",
    "    X_test[classifier.__class__.__name__] = previsao #Adicionando os rótulos que o classificador atribuiu ao dataset de teste - será importante para os plots depois    \n",
    "\n",
    "    return X_test, precisao #Esta função retorna o dataframe de teste e a precisão obtida\n",
    "\n",
    "def plotsMLTransfer(dfTreino1, dfTreino2, dfTeste, dfTeorico, classifier, listaNumeroFasesIgnorar=[]): #Criar função para plotar os gráficos obtidos na função acima\n",
    "    \n",
    "    X_test, precisao = aplicarMLTransfer(dfTreino1,dfTreino2,dfTeste, dfTeorico, classifier, listaNumeroFasesIgnorar) #Chama a função acima\n",
    "    \n",
    "    name = classifier.__class__.__name__\n",
    "    print(name + ' - Precisão: ', precisao) #Escreve a precisao na tela   \n",
    "    for i in range(0,8):#Varia de 0 a 8 pois é o número de fases\n",
    "        plt.scatter(X_test[0][X_test[name]==i], X_test[1][X_test[name]==i], label = fases[i], color = colors[i])#Plota todos os dados contidos para cada fase\n",
    "        \n",
    "    if len(dfTeste) == len(dfXXZ):#Características do plot exclusivo para o XXZ\n",
    "        plt.plot(dfTeorico[0], dfTeorico[1], ls='None', marker='.', mec='black', ms=10, c='white', label='Theoretical Transitions') #Plota teórico XXZ\n",
    "#       As linhas seguintes escrevem o nome da fase em posições específicas da tela\n",
    "        plt.text(2,-1,'Néel', fontsize = 15)\n",
    "        plt.text(-0.6,2,'Large D', fontsize = 15)\n",
    "        plt.text(-2.7,-1,'Ferro', fontsize = 15, color = 'white')\n",
    "        plt.text(-0.8,0,'XY1', fontsize = 10)\n",
    "        plt.text(-0.4,-1.5,'XY2', fontsize = 10)\n",
    "        plt.text(0.15,0,'Haldane', fontsize = 10)\n",
    "        plt.xlabel('$J_z$', fontsize=18) #Nome no eixo X do gráfico\n",
    "        plt.ylabel('D', fontsize=16)#Nome no eixo Y do gráfico\n",
    "\n",
    "    if len(dfTeste) == len(dfBond):\n",
    "        plt.plot(dfTeorico[0], dfTeorico[1], ls='None', marker='.',mec='black', ms=10, c='white', label='Theoretical Transitions')#Plota teórico Bond\n",
    "        plt.plot(0, 0.1, lw=0, marker='|', ms=45, mec='black', c='white')#Plota teórico Bond\n",
    "#       As linhas seguintes escrevem o nome da fase em posições específicas da tela\n",
    "        plt.text(1.7,0.3,'Néel', fontsize = 15)\n",
    "        plt.text(0.2,0.5,'Dimer', fontsize = 15)\n",
    "        plt.text(-1.49,0.5,'Ferro', fontsize = 15, color = 'white')\n",
    "        plt.text(-0.7,0.25,'XY1', fontsize = 15)\n",
    "        plt.text(0.2,0.1,'Haldane', fontsize = 15)\n",
    "        plt.xlabel('\\u0394', fontsize=18)#Nome no eixo X do gráfico\n",
    "        plt.ylabel('\\u03B4', fontsize=16)#Nome no eixo Y do gráfico\n",
    "\n",
    "    if len(dfTeste) == len(dfBilinear):\n",
    "        plt.plot([0.25, 0.5, 1.25, 1.75], [0, 0, 0, 0], lw=0, marker='|', ms=10, mec='black', c='white', label = \"Theoretical Transitions\")#Plota teórico Bilinear\n",
    "#       As linhas seguintes escrevem o nome da fase em posições específicas da tela\n",
    "        plt.text(-0.1, 0.04, \"Haldane\", fontsize=15)\n",
    "        plt.text(0.28, 0.04, \"Trim.\", fontsize=15)\n",
    "        plt.text(0.75, 0.04, \"Ferro\", fontsize=15)\n",
    "        plt.text(1.4, 0.04, \"Dimer\", fontsize=15)\n",
    "        plt.text(1.75, 0.04, \"Haldane\", fontsize=15)\n",
    "        plt.xlabel('\\u0398', fontsize=18)#Nome no eixo X do gráfico\n",
    "        plt.tight_layout(pad=0)#Nome no eixo Y do gráfico\n",
    "\n",
    "    plt.legend(bbox_to_anchor=(0.9, -0.2),  ncol=3) #Insere a legenda e ajeita a sua posição\n",
    "    plt.show() #Gera o gráfico"
   ]
  },
  {
   "cell_type": "markdown",
   "id": "761c720a",
   "metadata": {},
   "source": [
    "## Aplicando no XXZ - Treino = (Bond+Bilinear)"
   ]
  },
  {
   "cell_type": "code",
   "execution_count": null,
   "id": "6f8ea6d1",
   "metadata": {},
   "outputs": [],
   "source": [
    "for classifier in classifiers:\n",
    "    plotsMLTransfer(dfBond, dfBilinear, dfXXZ, dfXXZTeorico, classifier, listaNumeroFasesIgnorar=[4])"
   ]
  },
  {
   "cell_type": "markdown",
   "id": "54c7f80a",
   "metadata": {},
   "source": [
    "## Aplicando no Bond - Treino = (XXZ+Bilinear)"
   ]
  },
  {
   "cell_type": "code",
   "execution_count": null,
   "id": "6056d8d8",
   "metadata": {},
   "outputs": [],
   "source": [
    "for classifier in classifiers:\n",
    "    plotsMLTransfer(dfXXZ,dfBilinear,dfBond, dfBondTeorico, classifier)"
   ]
  },
  {
   "cell_type": "markdown",
   "id": "feadf327",
   "metadata": {},
   "source": [
    "## Aplicando no Bilinear - Treino = (XXZ+Bond)"
   ]
  },
  {
   "cell_type": "code",
   "execution_count": null,
   "id": "831637eb",
   "metadata": {},
   "outputs": [],
   "source": [
    "for classifier in classifiers:\n",
    "    plotsMLTransfer(dfXXZ, dfBond, dfBilinear, dfBilinearTeorico, classifier, listaNumeroFasesIgnorar=[1])"
   ]
  },
  {
   "cell_type": "markdown",
   "id": "891e33a0",
   "metadata": {},
   "source": [
    "## Variando o valor de K"
   ]
  },
  {
   "cell_type": "markdown",
   "id": "a940e591",
   "metadata": {},
   "source": [
    "Gerando os dados. No paper geramos o gráfico variando k de 1-3000. Tal range pode demorar bastante para rodar."
   ]
  },
  {
   "cell_type": "code",
   "execution_count": null,
   "id": "74a99591",
   "metadata": {},
   "outputs": [],
   "source": [
    "# precisaoKXXZ = list() #Lista para armazenar as precisões do XXZ variando K\n",
    "# precisaoKBond = list()#Lista para armazenar as precisões do Bond variando K\n",
    "# precisaoKBilinear = list()#Lista para armazenar as precisões Bilinear XXZ variando K\n",
    "# valorK = list()#Lista para armazenar o valor de k variando\n",
    "# for i in range(1,30):#Range no qual k vai variar - altere aqui para mudar o intervalo\n",
    "#     valorK.append(i) #Insere o valor de k na lista\n",
    "#     precisaoKXXZ.append(aplicarMLTransfer(dfBond,dfBilinear,dfXXZ, dfXXZTeorico,listaNumeroFasesIgnorar=[4], nKnn = i)[1]) #Armazena a precisao do XXZ para este k\n",
    "#     precisaoKBond.append(aplicarMLTransfer(dfXXZ,dfBilinear,dfBond, dfBondTeorico, nKnn = i)[1])#Armazena a precisao do Bond para este k\n",
    "#     precisaoKBilinear.append(aplicarMLTransfer(dfXXZ,dfBond,dfBilinear, dfBilinearTeorico, listaNumeroFasesIgnorar=[1], nKnn = i)[1])#Armazena a precisao do Bilinear para este k\n",
    "# dfK = pd.DataFrame(valorK)#Adiciona os valores de k a um dataframe\n",
    "# dfK[\"XXZ\"] = precisaoKXXZ #Adiciona as precisoes coletadas do XXZ a um dataframe\n",
    "# dfK[\"Bond\"] = precisaoKBond#Adiciona as precisoes coletadas do Bond a um dataframe\n",
    "# dfK[\"Bilinear\"] = precisaoKBilinear#Adiciona as precisoes coletadas do Bilinear a um dataframe\n",
    "# dfK.to_excel(\"dfK.xls\")#Cria um arquivo excel com os dados acima. É importante principalmente no caso de um range grande (para não perder os dados)"
   ]
  },
  {
   "cell_type": "code",
   "execution_count": null,
   "id": "7d40e234",
   "metadata": {},
   "outputs": [],
   "source": [
    "# dfK = pd.read_excel(\"dfK.xls\") #Lê o excel com os valores de k\n",
    "# plt.plot(dfK[0], dfK.XXZ, label = \"${\\cal H}_1$\") #Plota a precisão em função de K do XXZ\n",
    "# plt.plot(dfK[0], dfK.Bond, label = \"${\\cal H}_2$\")#Plota a precisão em função de K do Bond\n",
    "# plt.plot(dfK[0], dfK.Bilinear, label = \"${\\cal H}_3$\")#Plota a precisão em função de K do Bilinear\n",
    "# plt.legend()#Adiciona a legenda ao gráfico\n",
    "# plt.ylabel(\"Precision (%)\")#Rotula o eixo y do gráfico\n",
    "# plt.xlabel(\"Value of K\")#Rotula o eixo x do gráfico\n",
    "# plt.show()# Gera o gráfico"
   ]
  }
 ],
 "metadata": {
  "kernelspec": {
   "display_name": "Python 3.10.5 64-bit",
   "language": "python",
   "name": "python3"
  },
  "language_info": {
   "codemirror_mode": {
    "name": "ipython",
    "version": 3
   },
   "file_extension": ".py",
   "mimetype": "text/x-python",
   "name": "python",
   "nbconvert_exporter": "python",
   "pygments_lexer": "ipython3",
   "version": "3.10.5"
  },
  "vscode": {
   "interpreter": {
    "hash": "d52df076d689a901d537b129ecf3742b4ac3fa3facf3bf5f6f06f1124c14b80d"
   }
  }
 },
 "nbformat": 4,
 "nbformat_minor": 5
}
